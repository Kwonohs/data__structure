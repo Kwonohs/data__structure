{
 "cells": [
  {
   "cell_type": "code",
   "execution_count": 3,
   "id": "8ce1fb14",
   "metadata": {},
   "outputs": [],
   "source": [
    "from collections import deque\n",
    "\n",
    "a = deque()\n",
    "\n",
    "a.append(1)\n",
    "a.pop()\n",
    "\n",
    "a.append(2)\n",
    "\n",
    "a.append(3)"
   ]
  }
 ],
 "metadata": {
  "kernelspec": {
   "display_name": "Python 3",
   "language": "python",
   "name": "python3"
  },
  "language_info": {
   "codemirror_mode": {
    "name": "ipython",
    "version": 3
   },
   "file_extension": ".py",
   "mimetype": "text/x-python",
   "name": "python",
   "nbconvert_exporter": "python",
   "pygments_lexer": "ipython3",
   "version": "3.11.9"
  }
 },
 "nbformat": 4,
 "nbformat_minor": 5
}
